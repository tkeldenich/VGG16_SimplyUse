{
  "nbformat": 4,
  "nbformat_minor": 0,
  "metadata": {
    "colab": {
      "name": "VGG16_SimplyUse.ipynb",
      "provenance": [],
      "collapsed_sections": []
    },
    "kernelspec": {
      "name": "python3",
      "display_name": "Python 3"
    }
  },
  "cells": [
    {
      "cell_type": "markdown",
      "metadata": {
        "id": "wRxmGGu5c-rt"
      },
      "source": [
        "## **VGG16 – Tutoriel – Reconnaissance d’Image** détaillé [ici](https://inside-machinelearning.com/2020/12/21/vgg16-tutoriel-reconnaissance-dimage/)"
      ]
    },
    {
      "cell_type": "markdown",
      "metadata": {
        "id": "MgVKBfDK7Ht_"
      },
      "source": [
        "## **Charger le modèle**"
      ]
    },
    {
      "cell_type": "markdown",
      "metadata": {
        "id": "QDCmJdVu8abN"
      },
      "source": [
        "On va utiliser la librairie Keras pour charger VGG-16.\n",
        "\n",
        "Keras Application est composé de plusieurs modèles de Deep Learning qui sont mis à disposition avec des poids pré-entraînés.\n",
        "\n",
        "Ces modèles peuvent être utilisés pour la prédiction, la feature extraction, et le fine-tuning.\n",
        "\n",
        "Les poids pré entraînés sont chargés automatiquement lors de l'initialisation d'un modèle."
      ]
    },
    {
      "cell_type": "markdown",
      "metadata": {
        "id": "uy48oDeS9auh"
      },
      "source": [
        "Dans Keras Application, VGG-16 a été entraînés sur plus d'un million d'images de la base de données ImageNet.\n",
        "\n",
        "Ce réseau de neurones peut classer les images en 1000 classes d'objets, tels que des voitures, des souris, des crayons et de nombreux animaux.\n",
        "\n",
        "Grâce au Transfert Learning, on peut directement utiliser ce réseau de neurones. C'est un gain de temps considérable étant donné que, sans Keras, il faudrait plusieurs heures pour entraîner soi-même ce modèle sur ImageNet.\n",
        "\n",
        "On charge donc le modèle:\n",
        "\n"
      ]
    },
    {
      "cell_type": "code",
      "metadata": {
        "colab": {
          "base_uri": "https://localhost:8080/"
        },
        "id": "JQoHz-S0vR3q",
        "outputId": "2bdfe512-af2c-4600-a9ca-3d2d56ac61e6"
      },
      "source": [
        "from keras.applications.vgg16 import VGG16\n",
        "model = VGG16()"
      ],
      "execution_count": null,
      "outputs": [
        {
          "output_type": "stream",
          "text": [
            "Downloading data from https://storage.googleapis.com/tensorflow/keras-applications/vgg16/vgg16_weights_tf_dim_ordering_tf_kernels.h5\n",
            "553467904/553467096 [==============================] - 4s 0us/step\n"
          ],
          "name": "stdout"
        }
      ]
    },
    {
      "cell_type": "markdown",
      "metadata": {
        "id": "Jm9JQ5AWAPxg"
      },
      "source": [
        "On peut voir les différentes couches qui composent le modèle avec la fonction summary().\n",
        "\n",
        "\n",
        "Comme vu [ici](https://inside-machinelearning.com), il est principalement composé de 13 couches convolutionnelles et de 3 couches entièrement connectées."
      ]
    },
    {
      "cell_type": "code",
      "metadata": {
        "colab": {
          "base_uri": "https://localhost:8080/"
        },
        "id": "AzqKb3ogwv2f",
        "outputId": "e888b047-5a3b-4edb-8f36-bf94718fa689"
      },
      "source": [
        "print(model.summary())"
      ],
      "execution_count": null,
      "outputs": [
        {
          "output_type": "stream",
          "text": [
            "Model: \"vgg16\"\n",
            "_________________________________________________________________\n",
            "Layer (type)                 Output Shape              Param #   \n",
            "=================================================================\n",
            "input_1 (InputLayer)         [(None, 224, 224, 3)]     0         \n",
            "_________________________________________________________________\n",
            "block1_conv1 (Conv2D)        (None, 224, 224, 64)      1792      \n",
            "_________________________________________________________________\n",
            "block1_conv2 (Conv2D)        (None, 224, 224, 64)      36928     \n",
            "_________________________________________________________________\n",
            "block1_pool (MaxPooling2D)   (None, 112, 112, 64)      0         \n",
            "_________________________________________________________________\n",
            "block2_conv1 (Conv2D)        (None, 112, 112, 128)     73856     \n",
            "_________________________________________________________________\n",
            "block2_conv2 (Conv2D)        (None, 112, 112, 128)     147584    \n",
            "_________________________________________________________________\n",
            "block2_pool (MaxPooling2D)   (None, 56, 56, 128)       0         \n",
            "_________________________________________________________________\n",
            "block3_conv1 (Conv2D)        (None, 56, 56, 256)       295168    \n",
            "_________________________________________________________________\n",
            "block3_conv2 (Conv2D)        (None, 56, 56, 256)       590080    \n",
            "_________________________________________________________________\n",
            "block3_conv3 (Conv2D)        (None, 56, 56, 256)       590080    \n",
            "_________________________________________________________________\n",
            "block3_pool (MaxPooling2D)   (None, 28, 28, 256)       0         \n",
            "_________________________________________________________________\n",
            "block4_conv1 (Conv2D)        (None, 28, 28, 512)       1180160   \n",
            "_________________________________________________________________\n",
            "block4_conv2 (Conv2D)        (None, 28, 28, 512)       2359808   \n",
            "_________________________________________________________________\n",
            "block4_conv3 (Conv2D)        (None, 28, 28, 512)       2359808   \n",
            "_________________________________________________________________\n",
            "block4_pool (MaxPooling2D)   (None, 14, 14, 512)       0         \n",
            "_________________________________________________________________\n",
            "block5_conv1 (Conv2D)        (None, 14, 14, 512)       2359808   \n",
            "_________________________________________________________________\n",
            "block5_conv2 (Conv2D)        (None, 14, 14, 512)       2359808   \n",
            "_________________________________________________________________\n",
            "block5_conv3 (Conv2D)        (None, 14, 14, 512)       2359808   \n",
            "_________________________________________________________________\n",
            "block5_pool (MaxPooling2D)   (None, 7, 7, 512)         0         \n",
            "_________________________________________________________________\n",
            "flatten (Flatten)            (None, 25088)             0         \n",
            "_________________________________________________________________\n",
            "fc1 (Dense)                  (None, 4096)              102764544 \n",
            "_________________________________________________________________\n",
            "fc2 (Dense)                  (None, 4096)              16781312  \n",
            "_________________________________________________________________\n",
            "predictions (Dense)          (None, 1000)              4097000   \n",
            "=================================================================\n",
            "Total params: 138,357,544\n",
            "Trainable params: 138,357,544\n",
            "Non-trainable params: 0\n",
            "_________________________________________________________________\n",
            "None\n"
          ],
          "name": "stdout"
        }
      ]
    },
    {
      "cell_type": "markdown",
      "metadata": {
        "id": "4R415BpvEyVm"
      },
      "source": [
        "## **Chargement et pré-traitement de l'image**"
      ]
    },
    {
      "cell_type": "markdown",
      "metadata": {
        "id": "gRoF4pBuAfE_"
      },
      "source": [
        "Ensuite, on charge notre image, pour utiliser le modèle.\n",
        "\n",
        "La taille de l'image d'entrée par défaut de VGG-16 est de 224×224. On redimensionne donc notre image."
      ]
    },
    {
      "cell_type": "code",
      "metadata": {
        "id": "3qOdmppK47ts"
      },
      "source": [
        "from keras.preprocessing.image import load_img\n",
        "# load an image from file\n",
        "image = load_img('/content/ice-bear-hans-jurgen-mager-unsplash.jpg', target_size=(224, 224))"
      ],
      "execution_count": null,
      "outputs": []
    },
    {
      "cell_type": "code",
      "metadata": {
        "colab": {
          "base_uri": "https://localhost:8080/",
          "height": 241
        },
        "id": "2kD_XnqLAwV0",
        "outputId": "62adc711-bec9-4159-d598-7f5a5812e93d"
      },
      "source": [
        "image.show()"
      ],
      "execution_count": null,
      "outputs": [
        {
          "output_type": "execute_result",
          "data": {
            "image/png": "[encoded data removed]",
            "text/plain": [
              "<PIL.Image.Image image mode=RGB size=224x224 at 0x7F206423A320>"
            ]
          },
          "metadata": {
            "tags": []
          },
          "execution_count": 44
        }
      ]
    },
    {
      "cell_type": "markdown",
      "metadata": {
        "id": "py298eppBJSa"
      },
      "source": [
        "Petit rappel: Un modèle de Machine Learning ne prend toujours que des numériques en entrée.\n",
        "\n",
        "Il faut donc que nous convertissons notre image en matrice de pixels. Pour ce faire on transforme notre image en numpy.array avec la fonction img_to_array()."
      ]
    },
    {
      "cell_type": "code",
      "metadata": {
        "id": "DhHt-oda5Dmz"
      },
      "source": [
        "from keras.preprocessing.image import img_to_array\n",
        "# convert the image pixels to a numpy array\n",
        "image = img_to_array(image)"
      ],
      "execution_count": null,
      "outputs": []
    },
    {
      "cell_type": "markdown",
      "metadata": {
        "id": "SY_BWvZpCDuy"
      },
      "source": [
        "La dimension de l'image d'entrée par défaut de VGG-16 est (None,224,224,3).\n",
        "\n",
        "Il nous faut donc ajouter une autre dimension a notre matrice. "
      ]
    },
    {
      "cell_type": "code",
      "metadata": {
        "id": "-mTAS4w35JJL"
      },
      "source": [
        "# reshape data for the model\n",
        "image = image.reshape((1, image.shape[0], image.shape[1], image.shape[2]))"
      ],
      "execution_count": null,
      "outputs": []
    },
    {
      "cell_type": "markdown",
      "metadata": {
        "id": "Z5b5knFrDcn1"
      },
      "source": [
        "Ensuite, les pixels de l'image doivent être traité de la même manière que les données d'entraînement d'ImageNet ont été préparées. \n",
        "\n",
        "Expliqué plus précisément, dans le [papier de recherche](https://www.robots.ox.ac.uk/~vgg/publications/2015/Simonyan15/) de Karen Simonyan et Andrew Zisserman :\n",
        "\n",
        "\"Le seul prétraitement que nous faisons est de soustraire de chaque pixel la valeur RVB moyenne, calculée sur le jeu de données de d'entrainement.\"\n",
        "\n",
        "\n",
        "Keras fournit une fonction appelée preprocess_input() pour faire un tel pré-traitement (encore appelé preprocessing)."
      ]
    },
    {
      "cell_type": "code",
      "metadata": {
        "id": "PAhBUwFu5NYz"
      },
      "source": [
        "from keras.applications.vgg16 import preprocess_input\n",
        "# prepare the image for the VGG model\n",
        "image = preprocess_input(image)"
      ],
      "execution_count": null,
      "outputs": []
    },
    {
      "cell_type": "markdown",
      "metadata": {
        "id": "QYmypsD5E4MX"
      },
      "source": [
        "### **Faire la prédiction**"
      ]
    },
    {
      "cell_type": "markdown",
      "metadata": {
        "id": "fgud_SJbEOEG"
      },
      "source": [
        "Enfin, on peut faire une prédiction sur notre image avec le modèle."
      ]
    },
    {
      "cell_type": "code",
      "metadata": {
        "id": "ThGI6Gry5Oyn"
      },
      "source": [
        "# predict the probability across all output classes\n",
        "prediction = model.predict(image)"
      ],
      "execution_count": null,
      "outputs": []
    },
    {
      "cell_type": "markdown",
      "metadata": {
        "id": "WvQmVCTPEr2q"
      },
      "source": [
        "Allez, encore un dernier traitement pour décoder notre prédiction et nous pourrons voir le résultat de notre algorithme !"
      ]
    },
    {
      "cell_type": "code",
      "metadata": {
        "colab": {
          "base_uri": "https://localhost:8080/"
        },
        "id": "VVutbOIL5n3-",
        "outputId": "d8d4c9bc-7b1a-4a59-ccf7-8a83eb7dbf55"
      },
      "source": [
        "from keras.applications.vgg16 import decode_predictions\n",
        "# convert the probabilities to class labels\n",
        "label = decode_predictions(prediction)\n",
        "# retrieve the most likely result, e.g. highest probability\n",
        "label = label[0][0]\n",
        "# print the classification\n",
        "print('%s (%.2f%%)' % (label[1], label[2]*100))"
      ],
      "execution_count": null,
      "outputs": [
        {
          "output_type": "stream",
          "text": [
            "ice_bear (99.95%)\n"
          ],
          "name": "stdout"
        }
      ]
    },
    {
      "cell_type": "markdown",
      "metadata": {
        "id": "B74jqIvtFgrY"
      },
      "source": [
        "Selon VGG-16 l'image à une probabilité de 99.95% de contenir un ours polaire. Plutôt bien, non ?"
      ]
    },
    {
      "cell_type": "markdown",
      "metadata": {
        "id": "GEwWOLA_GQt2"
      },
      "source": [
        "En fait VGG-16 ne retourne pas une seul prédiction mais la liste des 1000 classes sur lequel il a été pré-entraîné avec, associé, la probabilité que cette classe soit dans l'image.\n",
        "\n",
        "Voici le top 3 des classes que VGG-16 a prédit dans notre image:"
      ]
    },
    {
      "cell_type": "code",
      "metadata": {
        "colab": {
          "base_uri": "https://localhost:8080/"
        },
        "id": "mcPTpyvzFVbY",
        "outputId": "67db016a-d4ca-4868-f090-8cd5eb2e7fd7"
      },
      "source": [
        "labels = decode_predictions(prediction)\n",
        "# print the classification\n",
        "print('%s (%.2f%%)' % (labels[0][0][1], labels[0][0][2]*100))\n",
        "print('%s (%.2f%%)' % (labels[0][1][1], labels[0][1][2]*100))\n",
        "print('%s (%.2f%%)' % (labels[0][2][1], labels[0][2][2]*100))"
      ],
      "execution_count": null,
      "outputs": [
        {
          "output_type": "stream",
          "text": [
            "ice_bear (99.95%)\n",
            "weasel (0.03%)\n",
            "otter (0.01%)\n"
          ],
          "name": "stdout"
        }
      ]
    },
    {
      "cell_type": "markdown",
      "metadata": {
        "id": "R0hPsDrB7DcK"
      },
      "source": [
        "source: https://machinelearningmastery.com/use-pre-trained-vgg-model-classify-objects-photographs/"
      ]
    },
    {
      "cell_type": "code",
      "metadata": {
        "id": "fBXQ7l8EFrqy"
      },
      "source": [
        ""
      ],
      "execution_count": null,
      "outputs": []
    }
  ]
}